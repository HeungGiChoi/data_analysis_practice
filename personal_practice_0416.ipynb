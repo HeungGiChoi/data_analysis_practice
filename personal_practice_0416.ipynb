{
 "cells": [
  {
   "cell_type": "markdown",
   "id": "c5aa219b-b6c3-4d06-ac95-727fd63ec7b0",
   "metadata": {},
   "source": [
    "# BeautifulSoup 연습"
   ]
  },
  {
   "cell_type": "markdown",
   "id": "b19442e1-4f8d-4ca9-8a93-6c081899531f",
   "metadata": {
    "jp-MarkdownHeadingCollapsed": true
   },
   "source": [
    "## find()"
   ]
  },
  {
   "cell_type": "code",
   "execution_count": 2,
   "id": "c20e6690-698d-4003-b537-0bc81e5ea5f0",
   "metadata": {},
   "outputs": [
    {
     "name": "stdout",
     "output_type": "stream",
     "text": [
      "Requirement already satisfied: BeautifulSoup4 in c:\\temp\\anaconda3\\lib\\site-packages (4.12.3)\n",
      "Requirement already satisfied: soupsieve>1.2 in c:\\temp\\anaconda3\\lib\\site-packages (from BeautifulSoup4) (2.5)\n"
     ]
    }
   ],
   "source": [
    "!pip install BeautifulSoup4\n",
    "from bs4 import BeautifulSoup\n",
    "\n",
    "html_str = '''\n",
    "<html>\n",
    "    <body>\n",
    "        <div id=\"content\">\n",
    "            <ul class = \"industry\">\n",
    "                <li>인공지능</li>\n",
    "                <li>빅데이터</li>\n",
    "                <li>스마트팩토리</li>\n",
    "            </ul>\n",
    "            <ul class = 'comlang'>\n",
    "                <li>Python</li>\n",
    "                <li>C++</li>\n",
    "                <li>Javascript</li>\n",
    "            </ul>\n",
    "        </div>\n",
    "    </body>\n",
    "</html>\n",
    "'''\n",
    "\n",
    "soup = BeautifulSoup(html_str, 'html.parser')"
   ]
  },
  {
   "cell_type": "code",
   "execution_count": 4,
   "id": "845410a4-24c8-4a3e-b061-19ebbb3269af",
   "metadata": {},
   "outputs": [
    {
     "name": "stdout",
     "output_type": "stream",
     "text": [
      "<ul class=\"industry\">\n",
      "<li>인공지능</li>\n",
      "<li>빅데이터</li>\n",
      "<li>스마트팩토리</li>\n",
      "</ul>\n",
      "\n",
      "인공지능\n",
      "빅데이터\n",
      "스마트팩토리\n",
      "\n"
     ]
    }
   ],
   "source": [
    "first_ul = soup.find('ul')\n",
    "print(first_ul)\n",
    "print(first_ul.text)"
   ]
  },
  {
   "cell_type": "code",
   "execution_count": 8,
   "id": "419f0df4-32d0-4785-bf51-011418c9d4f8",
   "metadata": {},
   "outputs": [
    {
     "name": "stdout",
     "output_type": "stream",
     "text": [
      "[<li>인공지능</li>, <li>빅데이터</li>, <li>스마트팩토리</li>]\n",
      "<li>빅데이터</li>\n",
      "빅데이터\n",
      "인공지능\n",
      "빅데이터\n",
      "스마트팩토리\n"
     ]
    }
   ],
   "source": [
    "first_all_li = first_ul.findAll('li')\n",
    "print(first_all_li)\n",
    "print(first_all_li[1])\n",
    "print(first_all_li[1].text)\n",
    "\n",
    "for li in first_all_li:\n",
    "    print(li.text)"
   ]
  },
  {
   "cell_type": "markdown",
   "id": "aeed278d-7f4d-4734-a2b1-4908b748db69",
   "metadata": {
    "jp-MarkdownHeadingCollapsed": true
   },
   "source": [
    "## select()"
   ]
  },
  {
   "cell_type": "code",
   "execution_count": 25,
   "id": "d79fa44b-d6f2-45ae-93ba-4144ffcb56fc",
   "metadata": {},
   "outputs": [
    {
     "name": "stdout",
     "output_type": "stream",
     "text": [
      "<ul class=\"industry\">\n",
      "<li>인공지능</li>\n",
      "<li>빅데이터</li>\n",
      "<li>스마트팩토리</li>\n",
      "</ul>\n",
      "\n",
      "인공지능\n",
      "빅데이터\n",
      "스마트팩토리\n",
      "\n",
      "[<li>인공지능</li>, <li>빅데이터</li>, <li>스마트팩토리</li>]\n",
      "<li>인공지능</li>\n",
      "인공지능\n",
      "<ul class=\"comlang\">\n",
      "<li>Python</li>\n",
      "<li>C++</li>\n",
      "<li>Javascript</li>\n",
      "</ul>\n",
      "\n",
      "Python\n",
      "C++\n",
      "Javascript\n",
      "\n"
     ]
    }
   ],
   "source": [
    "first_ul = soup.select_one('ul.industry')\n",
    "print(first_ul)\n",
    "print(first_ul.text)\n",
    "\n",
    "first_all_ul = first_ul.select('li')\n",
    "print(first_all_ul)\n",
    "print(first_all_ul[0])\n",
    "print(first_all_ul[0].text)\n",
    "\n",
    "second_ul = soup.select_one('ul.comlang')\n",
    "print(second_ul)\n",
    "print(second_ul.text)"
   ]
  },
  {
   "cell_type": "markdown",
   "id": "612a7dcd-5d2d-4f77-b68c-366746377907",
   "metadata": {
    "jp-MarkdownHeadingCollapsed": true
   },
   "source": [
    "## 서울시청 웹 크롤링"
   ]
  },
  {
   "cell_type": "code",
   "execution_count": 50,
   "id": "c79a6b98-9a68-4d6c-896f-41fdefa6cb20",
   "metadata": {
    "collapsed": true,
    "jupyter": {
     "outputs_hidden": true
    }
   },
   "outputs": [
    {
     "name": "stdout",
     "output_type": "stream",
     "text": [
      "\n",
      "공공서비스예약\n",
      "\n",
      "\n",
      "응답소(민원신고)\n",
      "\n",
      "\n",
      "서울일자리\n",
      "\n",
      "\n",
      "부동산정보\n",
      "\n",
      "\n",
      "서울런\n",
      "\n",
      "\n",
      "서울복지포털\n",
      "\n",
      "\n",
      "서울주거포털\n",
      "\n",
      "\n",
      "청년몽땅정보통\n",
      "\n",
      "\n",
      "내 손안에 서울\n",
      "\n",
      "\n",
      "상상대로 서울\n",
      "\n",
      "\n",
      "평생학습포털\n",
      "\n",
      "\n",
      "시의회\n",
      "\n"
     ]
    }
   ],
   "source": [
    "import requests\n",
    "\n",
    "url = \"https://www.seoul.go.kr/main/index.jsp\"\n",
    "response = requests.get(url)\n",
    "html = BeautifulSoup(response.text, 'html.parser')\n",
    "\n",
    "# first_li = html.select_one('li.public')\n",
    "# print(first_li)\n",
    "# print(first_li.text)\n",
    "\n",
    "first_li = html.select('div.m_service > ul > li')\n",
    "# print(len(first_li))\n",
    "# print(first_li)\n",
    "for i in range(len(first_li)):\n",
    "    print(first_li[i].text)\n"
   ]
  },
  {
   "cell_type": "markdown",
   "id": "c6f6f50e-450f-444c-92fb-4499893e5e7d",
   "metadata": {
    "jp-MarkdownHeadingCollapsed": true
   },
   "source": [
    "## 국립중앙박물관 크롤링 실습"
   ]
  },
  {
   "cell_type": "code",
   "execution_count": 70,
   "id": "7daf90de-c329-484d-b308-a26cb100def9",
   "metadata": {
    "collapsed": true,
    "jupyter": {
     "outputs_hidden": true
    }
   },
   "outputs": [
    {
     "name": "stdout",
     "output_type": "stream",
     "text": [
      "<ul class=\"main-info-area\">\n",
      "<li class=\"info\"><strong class=\"info-tit\"><i></i> 관람시간</strong>\n",
      "<div class=\"info-txt info-time\">\n",
      "<ul>\n",
      "<li><strong>월/화/목/금/일</strong> <span>10:00 ~ 18:00</span></li>\n",
      "<li><strong>수/토</strong> <span>10:00 ~ 21:00</span></li>\n",
      "<li><span>   * 입장 마감은 폐관30분 전까지</span></li>\n",
      "</ul>\n",
      "</div>\n",
      "</li>\n",
      "<br/>\n",
      "<li class=\"admission\"><strong class=\"info-tit\"><i></i> 관람료</strong>\n",
      "<div class=\"info-txt info-admission\">\n",
      "<ul>\n",
      "<li><strong>무료</strong> <span>특별전시는 유료</span></li>\n",
      "</ul>\n",
      "</div>\n",
      "</li>\n",
      "</ul>\n",
      "\n",
      " 관람시간\n",
      "\n",
      "\n",
      "월/화/목/금/일 10:00 ~ 18:00\n",
      "수/토 10:00 ~ 21:00\n",
      "   * 입장 마감은 폐관30분 전까지\n",
      "\n",
      "\n",
      "\n",
      "\n",
      " 관람료\n",
      "\n",
      "\n",
      "무료 특별전시는 유료\n",
      "\n",
      "\n",
      "\n",
      "\n"
     ]
    }
   ],
   "source": [
    "import requests\n",
    "from bs4 import BeautifulSoup\n",
    "\n",
    "url = \"https://www.museum.go.kr/MUSEUM/main/index.do\"\n",
    "response = requests.get(url)\n",
    "# print(response.status_code)\n",
    "html = BeautifulSoup(response.text, 'html.parser')\n",
    "\n",
    "# watch_data = html.select('ul.main-info-area')\n",
    "# # print(len(watch_data))\n",
    "# print(watch_data[0].text)\n",
    "# # print(watch_data.text)\n",
    "\n",
    "watch_data = html.select_one('ul.main-info-area')\n",
    "print(watch_data)\n",
    "print(watch_data.text)"
   ]
  },
  {
   "cell_type": "markdown",
   "id": "d9c9bfb8-f85c-4815-90e2-339c4040417b",
   "metadata": {
    "jp-MarkdownHeadingCollapsed": true
   },
   "source": [
    "## 뉴스 기사 크롤링"
   ]
  },
  {
   "cell_type": "code",
   "execution_count": 87,
   "id": "c6e40e58-387c-44a9-8efb-5eebfda1ff62",
   "metadata": {},
   "outputs": [
    {
     "name": "stdout",
     "output_type": "stream",
     "text": [
      "\n",
      "\n",
      "                        [속보] 경기 광명 신안산선 붕괴 현장 실종자 발견 …“사망 추정”\n",
      "                    \n",
      "\n",
      "                        붕괴 사고가 발생한 경기 광명시 신안산선 지하터널 공사 현장에서 실종됐던 근로자 1명이 사고 발생 124시간여 만에 발견됐습니다. 소방청에 따르면 사고 직후 실종됐던 포스코이앤씨 소속 50대...\n",
      "                    \n",
      "\n"
     ]
    }
   ],
   "source": [
    "import requests\n",
    "from bs4 import BeautifulSoup\n",
    "\n",
    "url = \"https://news.kbs.co.kr/news/pc/main/main.html\"\n",
    "response = requests.get(url)\n",
    "html = BeautifulSoup(response.text, 'html.parser')\n",
    "\n",
    "news_head = html.select('div.main-news-wrapper div.txt-wrapper')\n",
    "# print(news_head)\n",
    "print(news_head[0].text)"
   ]
  },
  {
   "cell_type": "markdown",
   "id": "22ddb9ad-5a03-4dd3-89b5-579e6b18d2ca",
   "metadata": {},
   "source": [
    "## 전자신문 크롤링"
   ]
  },
  {
   "cell_type": "code",
   "execution_count": 130,
   "id": "9518d9c9-9407-461b-9908-7bdfc9997df4",
   "metadata": {},
   "outputs": [
    {
     "name": "stdout",
     "output_type": "stream",
     "text": [
      "삼성전기 “반도체 유리기판 생태계 만들겠다”\n",
      "발행일 : 2025-04-16 13:00\n",
      "\n",
      "삼성전기가 반도체 유리기판 생태계를 구축한다. 차세대 기판으로 주목받는 유리기판의 신속한 상용화와 기술 난제를 해결하기 위해서다. 소재·부품·장비(소부장) 및 공정 협력 체계를 구축해 시장 주도권을 쥐겠다는 의지도 반영됐다.\n",
      "\n",
      "주혁 삼성전기 연구소장(부사장)은 16일 서울 포스코타워 역삼에서 열린 '전자신문 테크데이 : 유리기판의 모든 것' 콘퍼런스에서 “반도체 유리기판 에코시스템(생태계)를 만들기 위해 여러 공급사 및 기술 협력사와 컨소시엄을 세울 것”이라고 밝혔다.\n",
      "\n",
      "삼성전기가 반도체 유리기판 사업을 위한 생태계 구축 전략을 공개한 건 이번이 처음이다. 구체적인 시점은 밝히지 않았지만, 이미 다수 공급망 기업과 논의를 진행 중으로 파악됐다. 빠른 시일 내 발족이 예상된다.\n",
      "\n",
      "주 부사장은 “반도체 유리기판 사업을 하려면 생태계가 존재해야 여러 리스크를 줄이고 가치 사슬을 강화해 기술적 진보를 가져올 수 있다”며 “협력 체계를 형성하기 위해 삼성전기 내부적으로 발빠르게 움직이고 있다”고 덧붙였다.\n",
      "\n",
      "삼성전기 행보는 반도체 유리기판 시장 개화를 앞당기고 선점하려는 포석으로 풀이된다. 인공지능(AI) 확산으로 기존 플라스틱 소재를 대체할 새로운 기판이 필요한데, 유리가 최적으로 꼽힌다. 삼성전기는 2분기 세종 사업장에서 유리기판 시생산 라인을 가동을 준비하고 있다. 2027년 이후 양산이 목표다. 삼성전자 반도체와의 시너지는 물론 엔비디아, 인텔, 퀄컴 등 AI 빅테크들과의 협력이 주목된다.\n",
      "\n",
      "주 연구소장은 “고성능컴퓨팅(HPC)과 인공지능(AI) 때문에 반도체 칩에서 오가는 데이터양이 폭발적으로 증가하고 있다”며 “기판 위에 미세 회로를 그리고 전력 소모를 줄이는데 유리기판의 강점이 분명하다”고 말했다.\n",
      "\n",
      "유리기판은 기존 대비 휨 현상(워피지)이 적어 정밀한 신호 전달 경로(회로)를 구현하기 쉽고, 기판에 다량의 구리 통로를 형성할 수 있어 전력 효율이 높다고 부연했다.\n",
      "\n",
      "그러나 전례 없던 기판이라 기술 허들이 높다. 유리에 구멍을 뚫어 구리 통로(글라스관통전극, TGV)를 만들고, 매끈한 표면을 구현하기 위한 유리 가공 기술이 대표적이다. 삼성전기가 유리기판 생태계를 구축하려는 이유이기도 하다. 전문성을 확보한 협력사와 손잡고 기술 장벽을 빠르게 돌파하려는 것이다.\n",
      "\n",
      "주 연구소장은 “TGV와 유리 평탄화(디싱) 분야에서 이미 잘하는 협력사와 기술 혁신을 개발하고 있다”고 밝혔다. 다수 샘플 제조로 유리기판 신뢰성과 전력 효율성도 확인한 것으로 나타났다.\n",
      "\n",
      "삼성전기는 유리기판 중 주 기판으로 불리는 '글라스 코어' 뿐 아니라 중간 기판인 '글라스 인터포저' 시장도 공략한다. AI 반도체 칩에서 그래픽처리장치(GPU)와 고대역폭메모리(HBM)를 연결하는 핵심 기판이다. 주 연구소장은 “글라스 코어 만큼 글라스 인터포저도 중요한 시장”이라며 사업 의지를 드러냈다.\n",
      "\n",
      "이날 콘퍼런스에는 삼성전기 외 유리기판 제조 및 소부장 대표 기업이 나서, 유리기판 상용화 전략과 기술 난제 해결 방안을 공유했다. 반도체 및 기판 분야 산업계와 학계·연구계 관계자 250여명이 참석해 자리를 가득 메웠다.\n",
      "\n"
     ]
    }
   ],
   "source": [
    "import requests\n",
    "from bs4 import BeautifulSoup\n",
    "\n",
    "url = \"https://m.etnews.com/20250416000179\"\n",
    "response = requests.get(url)\n",
    "html = BeautifulSoup(response.text, 'html.parser')\n",
    "\n",
    "news_headline = html.select_one('#article_wrap #article_title_h2')\n",
    "print(news_paper.text)\n",
    "\n",
    "news_date = html.select('.timewrap > .time > time')\n",
    "print(news_date[0].text)\n",
    "\n",
    "news_info = html.select('div.article_body > p')\n",
    "print(news_info[0].text)\n"
   ]
  },
  {
   "cell_type": "markdown",
   "id": "18312a28-18c2-4ad7-a94a-ab1bbf91a510",
   "metadata": {},
   "source": [
    "## 명언 크롤링"
   ]
  },
  {
   "cell_type": "code",
   "execution_count": 35,
   "id": "07f3f868-c975-4da5-af57-4a5a61946375",
   "metadata": {},
   "outputs": [
    {
     "name": "stdout",
     "output_type": "stream",
     "text": [
      "“The world as we have created it is a process of our thinking. It cannot be changed without changing our thinking.”\n",
      "by Albert Einstein\n",
      "(about)\n",
      "\n",
      "“It is our choices, Harry, that show what we truly are, far more than our abilities.”\n",
      "by J.K. Rowling\n",
      "(about)\n",
      "\n",
      "“There are only two ways to live your life. One is as though nothing is a miracle. The other is as though everything is a miracle.”\n",
      "by Albert Einstein\n",
      "(about)\n",
      "\n",
      "“The person, be it gentleman or lady, who has not pleasure in a good novel, must be intolerably stupid.”\n",
      "by Jane Austen\n",
      "(about)\n",
      "\n",
      "“Imperfection is beauty, madness is genius and it's better to be absolutely ridiculous than absolutely boring.”\n",
      "by Marilyn Monroe\n",
      "(about)\n",
      "\n",
      "“Try not to become a man of success. Rather become a man of value.”\n",
      "by Albert Einstein\n",
      "(about)\n",
      "\n",
      "“It is better to be hated for what you are than to be loved for what you are not.”\n",
      "by André Gide\n",
      "(about)\n",
      "\n",
      "“I have not failed. I've just found 10,000 ways that won't work.”\n",
      "by Thomas A. Edison\n",
      "(about)\n",
      "\n",
      "“A woman is like a tea bag; you never know how strong it is until it's in hot water.”\n",
      "by Eleanor Roosevelt\n",
      "(about)\n",
      "\n",
      "“A day without sunshine is like, you know, night.”\n",
      "by Steve Martin\n",
      "(about)\n",
      "\n"
     ]
    }
   ],
   "source": [
    "import requests\n",
    "from bs4 import BeautifulSoup\n",
    "\n",
    "url = \"https://quotes.toscrape.com/\"\n",
    "response = requests.get(url)\n",
    "html = BeautifulSoup(response.text, 'html.parser')\n",
    "\n",
    "quote_li = html.select('div.row > div.col-md-8 > div.quote > span')\n",
    "for i in range(len(quote_li)):\n",
    "    print(quote_li[i].text)"
   ]
  },
  {
   "cell_type": "markdown",
   "id": "2bb40818-966c-4619-8750-ec375b413fdc",
   "metadata": {},
   "source": [
    "## 명언 크롤링"
   ]
  },
  {
   "cell_type": "code",
   "execution_count": 10,
   "id": "62ee56f6-49ba-4ac5-8932-f1ff514abca3",
   "metadata": {
    "collapsed": true,
    "jupyter": {
     "outputs_hidden": true
    }
   },
   "outputs": [
    {
     "data": {
      "text/plain": [
       "['“The world as we have created it is a process of our thinking. It cannot be changed without changing our thinking.”',\n",
       " '“It is our choices, Harry, that show what we truly are, far more than our abilities.”',\n",
       " '“There are only two ways to live your life. One is as though nothing is a miracle. The other is as though everything is a miracle.”',\n",
       " '“The person, be it gentleman or lady, who has not pleasure in a good novel, must be intolerably stupid.”',\n",
       " \"“Imperfection is beauty, madness is genius and it's better to be absolutely ridiculous than absolutely boring.”\",\n",
       " '“Try not to become a man of success. Rather become a man of value.”',\n",
       " '“It is better to be hated for what you are than to be loved for what you are not.”',\n",
       " \"“I have not failed. I've just found 10,000 ways that won't work.”\",\n",
       " \"“A woman is like a tea bag; you never know how strong it is until it's in hot water.”\",\n",
       " '“A day without sunshine is like, you know, night.”']"
      ]
     },
     "execution_count": 10,
     "metadata": {},
     "output_type": "execute_result"
    }
   ],
   "source": [
    "import requests\n",
    "from bs4 import BeautifulSoup\n",
    "\n",
    "url = \"https://quotes.toscrape.com/\"\n",
    "response = requests.get(url)\n",
    "html = BeautifulSoup(response.text, 'html.parser')\n",
    "\n",
    "quote_li = html.select('div.quote > span.text')\n",
    "[i.text for i in quote_li]"
   ]
  },
  {
   "cell_type": "code",
   "execution_count": 18,
   "id": "a231d1d8-6361-4d09-8790-7703f1ab2351",
   "metadata": {
    "collapsed": true,
    "jupyter": {
     "outputs_hidden": true,
     "source_hidden": true
    }
   },
   "outputs": [
    {
     "data": {
      "text/plain": [
       "['Albert Einstein',\n",
       " 'J.K. Rowling',\n",
       " 'Albert Einstein',\n",
       " 'Jane Austen',\n",
       " 'Marilyn Monroe',\n",
       " 'Albert Einstein',\n",
       " 'André Gide',\n",
       " 'Thomas A. Edison',\n",
       " 'Eleanor Roosevelt',\n",
       " 'Steve Martin']"
      ]
     },
     "execution_count": 18,
     "metadata": {},
     "output_type": "execute_result"
    }
   ],
   "source": [
    "quote_author = html.select('div.quote > span > small.author')\n",
    "[i.text for i in quote_author]"
   ]
  },
  {
   "cell_type": "code",
   "execution_count": 20,
   "id": "00d7e099-177e-4242-b985-403a655cddf2",
   "metadata": {},
   "outputs": [
    {
     "name": "stdout",
     "output_type": "stream",
     "text": [
      "“The world as we have created it is a process of our thinking. It cannot be changed without changing our thinking.”\n",
      "Albert Einstein\n",
      "\n",
      "“It is our choices, Harry, that show what we truly are, far more than our abilities.”\n",
      "J.K. Rowling\n",
      "\n",
      "“There are only two ways to live your life. One is as though nothing is a miracle. The other is as though everything is a miracle.”\n",
      "Albert Einstein\n",
      "\n",
      "“The person, be it gentleman or lady, who has not pleasure in a good novel, must be intolerably stupid.”\n",
      "Jane Austen\n",
      "\n",
      "“Imperfection is beauty, madness is genius and it's better to be absolutely ridiculous than absolutely boring.”\n",
      "Marilyn Monroe\n",
      "\n",
      "“Try not to become a man of success. Rather become a man of value.”\n",
      "Albert Einstein\n",
      "\n",
      "“It is better to be hated for what you are than to be loved for what you are not.”\n",
      "André Gide\n",
      "\n",
      "“I have not failed. I've just found 10,000 ways that won't work.”\n",
      "Thomas A. Edison\n",
      "\n",
      "“A woman is like a tea bag; you never know how strong it is until it's in hot water.”\n",
      "Eleanor Roosevelt\n",
      "\n",
      "“A day without sunshine is like, you know, night.”\n",
      "Steve Martin\n",
      "\n"
     ]
    }
   ],
   "source": [
    "for i in range(len(quote_li)):\n",
    "    print(quote_li[i].text)\n",
    "    print(quote_author[i].text)\n",
    "    print()"
   ]
  },
  {
   "cell_type": "code",
   "execution_count": null,
   "id": "0ffac2ea-dd60-4498-8424-68e91c2d433e",
   "metadata": {},
   "outputs": [],
   "source": []
  },
  {
   "cell_type": "code",
   "execution_count": null,
   "id": "cfae1ae7-30d1-4824-8da5-d854315ef1cc",
   "metadata": {},
   "outputs": [],
   "source": []
  },
  {
   "cell_type": "code",
   "execution_count": null,
   "id": "4790e17e-90b1-4530-95cd-08a63be0d29e",
   "metadata": {},
   "outputs": [],
   "source": []
  },
  {
   "cell_type": "code",
   "execution_count": null,
   "id": "e590c90a-54fc-49e8-9815-464fa75cc00b",
   "metadata": {},
   "outputs": [],
   "source": []
  },
  {
   "cell_type": "code",
   "execution_count": null,
   "id": "a2bfa07d-7013-4505-8df2-7b96452d112f",
   "metadata": {},
   "outputs": [],
   "source": []
  },
  {
   "cell_type": "code",
   "execution_count": null,
   "id": "537227c4-4da9-4840-b538-a5a310c71b2b",
   "metadata": {},
   "outputs": [],
   "source": []
  },
  {
   "cell_type": "code",
   "execution_count": null,
   "id": "8297b904-f426-4ea1-89ce-2402ac2642db",
   "metadata": {},
   "outputs": [],
   "source": []
  },
  {
   "cell_type": "code",
   "execution_count": null,
   "id": "c1c590db-9550-456d-8ba1-7780f29c7c6a",
   "metadata": {},
   "outputs": [],
   "source": []
  },
  {
   "cell_type": "code",
   "execution_count": null,
   "id": "6dabfc67-a31a-452b-b2c0-40c8e1fc92de",
   "metadata": {},
   "outputs": [],
   "source": []
  },
  {
   "cell_type": "code",
   "execution_count": null,
   "id": "5b6616ae-3d19-4cde-8b4c-fd27773bd7c5",
   "metadata": {},
   "outputs": [],
   "source": []
  },
  {
   "cell_type": "code",
   "execution_count": null,
   "id": "8747e563-4943-4581-a4d5-1eef7ee35c2b",
   "metadata": {},
   "outputs": [],
   "source": []
  },
  {
   "cell_type": "code",
   "execution_count": null,
   "id": "85c05a41-0639-40c1-98e7-186248112f44",
   "metadata": {},
   "outputs": [],
   "source": []
  },
  {
   "cell_type": "code",
   "execution_count": null,
   "id": "94e05048-6279-48d5-8233-195e7420643b",
   "metadata": {},
   "outputs": [],
   "source": []
  },
  {
   "cell_type": "code",
   "execution_count": null,
   "id": "0a8f3095-7139-4724-8dc6-8e24007be4ec",
   "metadata": {},
   "outputs": [],
   "source": []
  },
  {
   "cell_type": "code",
   "execution_count": null,
   "id": "bb336380-77bb-4c31-a67a-34eb10ea4315",
   "metadata": {},
   "outputs": [],
   "source": []
  }
 ],
 "metadata": {
  "kernelspec": {
   "display_name": "Python [conda env:base] *",
   "language": "python",
   "name": "conda-base-py"
  },
  "language_info": {
   "codemirror_mode": {
    "name": "ipython",
    "version": 3
   },
   "file_extension": ".py",
   "mimetype": "text/x-python",
   "name": "python",
   "nbconvert_exporter": "python",
   "pygments_lexer": "ipython3",
   "version": "3.12.7"
  }
 },
 "nbformat": 4,
 "nbformat_minor": 5
}
